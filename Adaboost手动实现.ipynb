{
 "cells": [
  {
   "cell_type": "code",
   "execution_count": 1,
   "metadata": {},
   "outputs": [],
   "source": [
    "import numpy as np\n",
    "import pandas as pd\n",
    "import matplotlib.pyplot as plt\n",
    "\n",
    "\n",
    "from sklearn.model_selection import cross_val_score\n",
    "\n",
    "np.random.seed(19)"
   ]
  },
  {
   "cell_type": "code",
   "execution_count": 2,
   "metadata": {},
   "outputs": [
    {
     "data": {
      "text/html": [
       "<div>\n",
       "<style scoped>\n",
       "    .dataframe tbody tr th:only-of-type {\n",
       "        vertical-align: middle;\n",
       "    }\n",
       "\n",
       "    .dataframe tbody tr th {\n",
       "        vertical-align: top;\n",
       "    }\n",
       "\n",
       "    .dataframe thead th {\n",
       "        text-align: right;\n",
       "    }\n",
       "</style>\n",
       "<table border=\"1\" class=\"dataframe\">\n",
       "  <thead>\n",
       "    <tr style=\"text-align: right;\">\n",
       "      <th></th>\n",
       "      <th>class</th>\n",
       "      <th>cap-shape</th>\n",
       "      <th>cap-surface</th>\n",
       "      <th>cap-color</th>\n",
       "      <th>bruises</th>\n",
       "      <th>odor</th>\n",
       "      <th>gill-attachment</th>\n",
       "      <th>gill-spacing</th>\n",
       "      <th>gill-size</th>\n",
       "      <th>gill-color</th>\n",
       "      <th>...</th>\n",
       "      <th>stalk-surface-below-ring</th>\n",
       "      <th>stalk-color-above-ring</th>\n",
       "      <th>stalk-color-below-ring</th>\n",
       "      <th>veil-type</th>\n",
       "      <th>veil-color</th>\n",
       "      <th>ring-number</th>\n",
       "      <th>ring-type</th>\n",
       "      <th>spore-print-color</th>\n",
       "      <th>population</th>\n",
       "      <th>habitat</th>\n",
       "    </tr>\n",
       "  </thead>\n",
       "  <tbody>\n",
       "    <tr>\n",
       "      <th>0</th>\n",
       "      <td>p</td>\n",
       "      <td>x</td>\n",
       "      <td>s</td>\n",
       "      <td>n</td>\n",
       "      <td>t</td>\n",
       "      <td>p</td>\n",
       "      <td>f</td>\n",
       "      <td>c</td>\n",
       "      <td>n</td>\n",
       "      <td>k</td>\n",
       "      <td>...</td>\n",
       "      <td>s</td>\n",
       "      <td>w</td>\n",
       "      <td>w</td>\n",
       "      <td>p</td>\n",
       "      <td>w</td>\n",
       "      <td>o</td>\n",
       "      <td>p</td>\n",
       "      <td>k</td>\n",
       "      <td>s</td>\n",
       "      <td>u</td>\n",
       "    </tr>\n",
       "    <tr>\n",
       "      <th>1</th>\n",
       "      <td>e</td>\n",
       "      <td>x</td>\n",
       "      <td>s</td>\n",
       "      <td>y</td>\n",
       "      <td>t</td>\n",
       "      <td>a</td>\n",
       "      <td>f</td>\n",
       "      <td>c</td>\n",
       "      <td>b</td>\n",
       "      <td>k</td>\n",
       "      <td>...</td>\n",
       "      <td>s</td>\n",
       "      <td>w</td>\n",
       "      <td>w</td>\n",
       "      <td>p</td>\n",
       "      <td>w</td>\n",
       "      <td>o</td>\n",
       "      <td>p</td>\n",
       "      <td>n</td>\n",
       "      <td>n</td>\n",
       "      <td>g</td>\n",
       "    </tr>\n",
       "    <tr>\n",
       "      <th>2</th>\n",
       "      <td>e</td>\n",
       "      <td>b</td>\n",
       "      <td>s</td>\n",
       "      <td>w</td>\n",
       "      <td>t</td>\n",
       "      <td>l</td>\n",
       "      <td>f</td>\n",
       "      <td>c</td>\n",
       "      <td>b</td>\n",
       "      <td>n</td>\n",
       "      <td>...</td>\n",
       "      <td>s</td>\n",
       "      <td>w</td>\n",
       "      <td>w</td>\n",
       "      <td>p</td>\n",
       "      <td>w</td>\n",
       "      <td>o</td>\n",
       "      <td>p</td>\n",
       "      <td>n</td>\n",
       "      <td>n</td>\n",
       "      <td>m</td>\n",
       "    </tr>\n",
       "    <tr>\n",
       "      <th>3</th>\n",
       "      <td>p</td>\n",
       "      <td>x</td>\n",
       "      <td>y</td>\n",
       "      <td>w</td>\n",
       "      <td>t</td>\n",
       "      <td>p</td>\n",
       "      <td>f</td>\n",
       "      <td>c</td>\n",
       "      <td>n</td>\n",
       "      <td>n</td>\n",
       "      <td>...</td>\n",
       "      <td>s</td>\n",
       "      <td>w</td>\n",
       "      <td>w</td>\n",
       "      <td>p</td>\n",
       "      <td>w</td>\n",
       "      <td>o</td>\n",
       "      <td>p</td>\n",
       "      <td>k</td>\n",
       "      <td>s</td>\n",
       "      <td>u</td>\n",
       "    </tr>\n",
       "    <tr>\n",
       "      <th>4</th>\n",
       "      <td>e</td>\n",
       "      <td>x</td>\n",
       "      <td>s</td>\n",
       "      <td>g</td>\n",
       "      <td>f</td>\n",
       "      <td>n</td>\n",
       "      <td>f</td>\n",
       "      <td>w</td>\n",
       "      <td>b</td>\n",
       "      <td>k</td>\n",
       "      <td>...</td>\n",
       "      <td>s</td>\n",
       "      <td>w</td>\n",
       "      <td>w</td>\n",
       "      <td>p</td>\n",
       "      <td>w</td>\n",
       "      <td>o</td>\n",
       "      <td>e</td>\n",
       "      <td>n</td>\n",
       "      <td>a</td>\n",
       "      <td>g</td>\n",
       "    </tr>\n",
       "  </tbody>\n",
       "</table>\n",
       "<p>5 rows × 23 columns</p>\n",
       "</div>"
      ],
      "text/plain": [
       "  class cap-shape cap-surface cap-color bruises odor gill-attachment  \\\n",
       "0     p         x           s         n       t    p               f   \n",
       "1     e         x           s         y       t    a               f   \n",
       "2     e         b           s         w       t    l               f   \n",
       "3     p         x           y         w       t    p               f   \n",
       "4     e         x           s         g       f    n               f   \n",
       "\n",
       "  gill-spacing gill-size gill-color   ...   stalk-surface-below-ring  \\\n",
       "0            c         n          k   ...                          s   \n",
       "1            c         b          k   ...                          s   \n",
       "2            c         b          n   ...                          s   \n",
       "3            c         n          n   ...                          s   \n",
       "4            w         b          k   ...                          s   \n",
       "\n",
       "  stalk-color-above-ring stalk-color-below-ring veil-type veil-color  \\\n",
       "0                      w                      w         p          w   \n",
       "1                      w                      w         p          w   \n",
       "2                      w                      w         p          w   \n",
       "3                      w                      w         p          w   \n",
       "4                      w                      w         p          w   \n",
       "\n",
       "  ring-number ring-type spore-print-color population habitat  \n",
       "0           o         p                 k          s       u  \n",
       "1           o         p                 n          n       g  \n",
       "2           o         p                 n          n       m  \n",
       "3           o         p                 k          s       u  \n",
       "4           o         e                 n          a       g  \n",
       "\n",
       "[5 rows x 23 columns]"
      ]
     },
     "execution_count": 2,
     "metadata": {},
     "output_type": "execute_result"
    }
   ],
   "source": [
    "data = pd.read_csv( \"mushrooms.csv\")\n",
    "data.head()"
   ]
  },
  {
   "cell_type": "code",
   "execution_count": 3,
   "metadata": {},
   "outputs": [],
   "source": [
    "data['class'] = data.apply(lambda row: -1 if row[0] == 'e' else 1, axis=1)"
   ]
  },
  {
   "cell_type": "code",
   "execution_count": 78,
   "metadata": {},
   "outputs": [
    {
     "data": {
      "text/plain": [
       "Index(['class', 'cap-shape', 'cap-surface', 'cap-color', 'bruises', 'odor',\n",
       "       'gill-attachment', 'gill-spacing', 'gill-size', 'gill-color',\n",
       "       'stalk-shape', 'stalk-root', 'stalk-surface-above-ring',\n",
       "       'stalk-surface-below-ring', 'stalk-color-above-ring',\n",
       "       'stalk-color-below-ring', 'veil-type', 'veil-color', 'ring-number',\n",
       "       'ring-type', 'spore-print-color', 'population', 'habitat'],\n",
       "      dtype='object')"
      ]
     },
     "execution_count": 78,
     "metadata": {},
     "output_type": "execute_result"
    }
   ],
   "source": [
    "data.columns"
   ]
  },
  {
   "cell_type": "code",
   "execution_count": 4,
   "metadata": {},
   "outputs": [],
   "source": [
    "def dummies(data, columns=['pclass','name_title','embarked', 'sex']):\n",
    "    for col in columns:\n",
    "        data[col] = data[col].apply(lambda x: str(x))\n",
    "        new_cols = [col + '_' + i for i in data[col].unique()]\n",
    "        data = pd.concat([data, pd.get_dummies(data[col], prefix=col)[new_cols]], axis=1)\n",
    "        del data[col]\n",
    "    return data"
   ]
  },
  {
   "cell_type": "code",
   "execution_count": 5,
   "metadata": {},
   "outputs": [],
   "source": [
    "target = 'class'\n",
    "cols = data.columns.drop(target)"
   ]
  },
  {
   "cell_type": "code",
   "execution_count": 6,
   "metadata": {},
   "outputs": [],
   "source": [
    "data_set = dummies(data, columns = cols)"
   ]
  },
  {
   "cell_type": "code",
   "execution_count": 7,
   "metadata": {},
   "outputs": [],
   "source": [
    "from sklearn.model_selection import train_test_split\n",
    "train_data, test_data = train_test_split(data_set, test_size=0.3)"
   ]
  },
  {
   "cell_type": "code",
   "execution_count": 8,
   "metadata": {},
   "outputs": [],
   "source": [
    "trainX, trainY = train_data[train_data.columns[1:]], pd.DataFrame(train_data[target])\n",
    "testX, testY = test_data[test_data.columns[1:]], pd.DataFrame(test_data[target])"
   ]
  },
  {
   "cell_type": "markdown",
   "metadata": {},
   "source": [
    "## 基于决策树的完全手动实现adaboost"
   ]
  },
  {
   "cell_type": "code",
   "execution_count": 9,
   "metadata": {},
   "outputs": [],
   "source": [
    "def node_weighted_mistakes(targets_in_node, data_weights):\n",
    "    # 计算lable 为+1的所有数据的权重和\n",
    "    weight_positive = sum(data_weights[targets_in_node == +1])\n",
    "    \n",
    "    # 如果全部预测为-1，那么预测错误的数据权重等于weight_positive\n",
    "    #TODO\n",
    "    weighted_mistakes_negative = weight_positive \n",
    "    \n",
    "    # 计算lable 为-1的所有数据的权重和\n",
    "    #TODO\n",
    "    weight_negative = sum(data_weights[targets_in_node == -1])\n",
    "    \n",
    "    # 如果全部预测为+1，那么预测错误的数据权重等于weight_negative\n",
    "    #TODO\n",
    "    weighted_mistakes_positive = weight_negative\n",
    "    \n",
    "    #将加权错误和对应的预测标签一起输出\n",
    "    #TODO\n",
    "    if weighted_mistakes_negative < weighted_mistakes_positive:\n",
    "        return (weighted_mistakes_negative, -1)\n",
    "    else:\n",
    "        return (weighted_mistakes_positive, + 1)"
   ]
  },
  {
   "cell_type": "markdown",
   "metadata": {},
   "source": [
    "## 阶段性测试\n",
    "测试node_weighted_mistakes函数，对测试样例输出应该是(2.5,-1),表示预测错误的权重为2.5，预测结果为-1"
   ]
  },
  {
   "cell_type": "code",
   "execution_count": 10,
   "metadata": {},
   "outputs": [
    {
     "data": {
      "text/plain": [
       "(2.5, -1)"
      ]
     },
     "execution_count": 10,
     "metadata": {},
     "output_type": "execute_result"
    }
   ],
   "source": [
    "#test\n",
    "example_targets = np.array([-1, -1, 1, 1, 1])\n",
    "example_data_weights = np.array([1., 2., .5, 1., 1.])\n",
    "node_weighted_mistakes(example_targets, example_data_weights)"
   ]
  },
  {
   "cell_type": "code",
   "execution_count": 124,
   "metadata": {},
   "outputs": [
    {
     "data": {
      "text/plain": [
       "'\\nSince 3 > 2.5 ---> 输出-1， 则犯错的是“1”，犯错的总权重为0.5+1+1=2.5\\n'"
      ]
     },
     "execution_count": 124,
     "metadata": {},
     "output_type": "execute_result"
    }
   ],
   "source": [
    "'''\n",
    "Since 3 > 2.5 ---> 输出-1， 则犯错的是“1”，犯错的总权重为0.5+1+1=2.5\n",
    "'''"
   ]
  },
  {
   "cell_type": "markdown",
   "metadata": {},
   "source": [
    "## 重新写best_split函数，这个时候需要用weighted error来选择最佳特征\n"
   ]
  },
  {
   "cell_type": "code",
   "execution_count": 11,
   "metadata": {},
   "outputs": [],
   "source": [
    "features = data_set.columns.drop(target)\n",
    "example_data_weights = np.array(len(train_data) * [2])"
   ]
  },
  {
   "cell_type": "code",
   "execution_count": 12,
   "metadata": {},
   "outputs": [],
   "source": [
    "left_split = train_data[train_data[\"odor_n\"] == 0]\n",
    "left_data_weights = example_data_weights[train_data[\"odor_n\"]==0]\n",
    "\n",
    "right_split = train_data[train_data[\"odor_n\"] == 1]\n",
    "right_data_weights = example_data_weights[train_data[\"odor_n\"] == 1]\n",
    "\n",
    "left_loss, left_class = node_weighted_mistakes(left_split[\"class\"],left_data_weights )\n",
    "right_loss, right_class = node_weighted_mistakes(right_split[\"class\"], right_data_weights)"
   ]
  },
  {
   "cell_type": "code",
   "execution_count": 112,
   "metadata": {},
   "outputs": [
    {
     "data": {
      "text/plain": [
       "0.11572282799859304"
      ]
     },
     "execution_count": 112,
     "metadata": {},
     "output_type": "execute_result"
    }
   ],
   "source": [
    "(left_loss+right_loss)*1.0 / sum(example_data_weights)"
   ]
  },
  {
   "cell_type": "code",
   "execution_count": 13,
   "metadata": {},
   "outputs": [],
   "source": [
    "def best_split_weighted(data, features, target, data_weights):\n",
    "    # return the best feature\n",
    "    \n",
    "    # 初始化\n",
    "    best_feature = None\n",
    "    best_error = float(\"inf\")\n",
    "    num_data_points = float(len(data))  \n",
    "\n",
    "    for feature in features:\n",
    "        \n",
    "        # 规定·：左分支对应当前特征为0的数据点\n",
    "        left_split = data[data[feature] == 0]\n",
    "        \n",
    "        # 进入左分支数据点的权重\n",
    "        left_data_weights = data_weights[data[feature] == 0]\n",
    "        \n",
    "        \n",
    "        # 规定： 右分支对应当前特征为1的数据点\n",
    "        right_split = data[data[feature] == 1] \n",
    "        \n",
    "        # 进入右分支数据点的权重\n",
    "        right_data_weights = data_weights[data[feature] == 1]\n",
    "        \n",
    "        \n",
    "        # 重点！！\n",
    "        # 计算左边分支里犯了多少错 (加权结果！！)\n",
    "        left_misses, left_class = node_weighted_mistakes(left_split[target], left_data_weights)            \n",
    "\n",
    "        # 计算右边分支里犯了多少错 (加权结果！！)\n",
    "        right_misses, right_class = node_weighted_mistakes(right_split[target], right_data_weights)\n",
    "            \n",
    "        # 计算当前划分之后的分类犯错率\n",
    "        error = (left_misses + right_misses) * 1.0 / sum(data_weights)\n",
    "\n",
    "        # 更新应选特征和错误率，注意错误越低说明该特征越好\n",
    "        if error < best_error:\n",
    "            best_error = error\n",
    "            best_feature = feature\n",
    "    return best_feature"
   ]
  },
  {
   "cell_type": "markdown",
   "metadata": {},
   "source": [
    "## 阶段性测试¶\n",
    "测试best_split_weighted函数，结果应该是\"odor_n\" 这个特征"
   ]
  },
  {
   "cell_type": "code",
   "execution_count": 14,
   "metadata": {},
   "outputs": [
    {
     "data": {
      "text/plain": [
       "'odor_n'"
      ]
     },
     "execution_count": 14,
     "metadata": {},
     "output_type": "execute_result"
    }
   ],
   "source": [
    "# test\n",
    "# 根据之前的实现，最佳特征\n",
    "features = data_set.columns.drop(target)\n",
    "example_data_weights = np.array(len(train_data) * [2])\n",
    "best_split_weighted(train_data, features, target, example_data_weights)"
   ]
  },
  {
   "cell_type": "code",
   "execution_count": 15,
   "metadata": {},
   "outputs": [],
   "source": [
    "class TreeNode:\n",
    "    def __init__(self, is_leaf, prediction, split_feature):\n",
    "        self.is_leaf = is_leaf\n",
    "        self.prediction = prediction\n",
    "        self.split_feature = split_feature\n",
    "        self.left = None\n",
    "        self.right = None\n",
    "\n",
    "def create_leaf(target_values, data_weights):\n",
    "    # 用于创建叶子的函数\n",
    "    \n",
    "    # 初始化一个树节点\n",
    "    leaf = TreeNode(True, None, None)\n",
    "    \n",
    "    # 直接调用node_weighted_mistakes得到叶子节点的预测结果\n",
    "    weighted_error, prediction_class = node_weighted_mistakes(target_values, data_weights)\n",
    "    \n",
    "    leaf.prediction = prediction_class\n",
    "        \n",
    "    # 返回叶子        \n",
    "    return leaf "
   ]
  },
  {
   "cell_type": "code",
   "execution_count": 19,
   "metadata": {},
   "outputs": [],
   "source": [
    "def create_weighted_tree(data, data_weights, features, target, current_depth = 0, max_depth = 10, min_error=1e-15):\n",
    "    # 拷贝以下可用特征\n",
    "    remaining_features = features[:]\n",
    "    \n",
    "    target_values = data[target]\n",
    "    \n",
    "    # termination 1\n",
    "    if node_weighted_mistakes(target_values,data_weights)[0] <= min_error:  # 这儿用到了min_error\n",
    "        print(\"Termination 1 reached.\")     \n",
    "        return create_leaf(target_values, data_weights)\n",
    "    \n",
    "    # termination 2\n",
    "    if len(remaining_features) == 0:\n",
    "        print(\"Termination 2 reached.\")    \n",
    "        return create_leaf(target_values, data_weights)    \n",
    "    \n",
    "    # termination 3\n",
    "    if current_depth >= max_depth: \n",
    "        print(\"Termination 3 reached.\")\n",
    "        return create_leaf(target_values, data_weights)\n",
    "\n",
    "    \n",
    "    \n",
    "    # 选出最佳当前划分特征\n",
    "    split_feature = best_split_weighted(data, features, target, data_weights)  # 根据加权错误来选特征\n",
    "    \n",
    "    # 选出最佳特征后，该特征为0的数据分到左边，该特征为1的数据分到右边\n",
    "    left_split = data[data[split_feature] == 0]\n",
    "    right_split = data[data[split_feature] == 1]\n",
    "    \n",
    "    # 将对应数据的权重也分到左边与右边\n",
    "    left_data_weights = data_weights[data[split_feature] == 0]\n",
    "    right_data_weights = data_weights[data[split_feature] == 1]\n",
    "    \n",
    "    \n",
    "    # 剔除已经用过的特征\n",
    "    remaining_features = remaining_features.drop(split_feature)\n",
    "    print(\"Split on feature %s. (%s, %s)\" % (split_feature, str(len(left_split)), str(len(right_split))))\n",
    "    \n",
    "    # 如果当前数据全部划分到了一边，直接创建叶子节点返回即可\n",
    "    if len(left_split) == len(data):\n",
    "        print(\"Perfect split!\")\n",
    "        return create_leaf(left_split[target],left_data_weights)\n",
    "    if len(right_split) == len(data):\n",
    "        print(\"Perfect split!\")\n",
    "        return create_leaf(right_split[target], right_data_weights)\n",
    "        \n",
    "    # 递归上面的步骤  往下走一层， curent_depth就加一 \n",
    "    left_tree = create_weighted_tree(left_split,left_data_weights, remaining_features, target, current_depth + 1, max_depth, min_error)        \n",
    "    right_tree = create_weighted_tree(right_split,right_data_weights, remaining_features,target, current_depth + 1, max_depth, min_error)\n",
    "    \n",
    "    \n",
    "    #生成当前的树节点\n",
    "    result_node = TreeNode(False, None, split_feature)\n",
    "    result_node.left = left_tree\n",
    "    result_node.right = right_tree\n",
    "    return result_node"
   ]
  },
  {
   "cell_type": "code",
   "execution_count": null,
   "metadata": {},
   "outputs": [],
   "source": []
  },
  {
   "cell_type": "code",
   "execution_count": 20,
   "metadata": {},
   "outputs": [],
   "source": [
    "def count_leaves(tree):\n",
    "    if tree.is_leaf:\n",
    "        return 1\n",
    "    return count_leaves(tree.left) + count_leaves(tree.right)"
   ]
  },
  {
   "cell_type": "markdown",
   "metadata": {},
   "source": [
    "## 阶段性测试\n",
    "测试create_weighted_tree函数，根据测试样例，输出应该是4"
   ]
  },
  {
   "cell_type": "code",
   "execution_count": 23,
   "metadata": {},
   "outputs": [
    {
     "name": "stdout",
     "output_type": "stream",
     "text": [
      "Split on feature odor_n. (3209, 2477)\n",
      "Split on feature stalk-root_c. (2813, 396)\n",
      "Termination 3 reached.\n",
      "Termination 3 reached.\n",
      "Split on feature spore-print-color_r. (2421, 56)\n",
      "Termination 3 reached.\n",
      "Termination 1 reached.\n"
     ]
    },
    {
     "data": {
      "text/plain": [
       "4"
      ]
     },
     "execution_count": 23,
     "metadata": {},
     "output_type": "execute_result"
    }
   ],
   "source": [
    "# test\n",
    "example_data_weights =np.array([1.0 for i in range(len(train_data))])\n",
    "small_data_decision_tree = create_weighted_tree(train_data,example_data_weights, features, target,max_depth=2)\n",
    "count_leaves(small_data_decision_tree)"
   ]
  },
  {
   "cell_type": "code",
   "execution_count": 24,
   "metadata": {},
   "outputs": [],
   "source": [
    "def predict_single_data(tree, x, annotate = False):   \n",
    "    # 如果已经是叶子节点直接返回叶子节点的预测结果\n",
    "    if tree.is_leaf:\n",
    "        if annotate: \n",
    "            print(\"leaf node, predicting %s\" % tree.prediction)\n",
    "        return tree.prediction \n",
    "    else:\n",
    "        # 查询当前节点用来划分数据集的特征\n",
    "        split_feature_value = x[tree.split_feature]\n",
    "        \n",
    "        if annotate: \n",
    "            print(\"Split on %s = %s\" % (tree.split_feature, split_feature_value))\n",
    "        if split_feature_value == 0:\n",
    "            #如果数据在该特征上的值为0，交给左子树来预测\n",
    "            return predict_single_data(tree.left, x, annotate)\n",
    "        else:\n",
    "            #如果数据在该特征上的值为0，交给右子树来预测\n",
    "            return predict_single_data(tree.right, x, annotate)"
   ]
  },
  {
   "cell_type": "code",
   "execution_count": 25,
   "metadata": {},
   "outputs": [],
   "source": [
    "def evaluate_accuracy(tree, data):\n",
    "    # 将predict函数应用在数据data的每一行\n",
    "    prediction = data.apply(lambda row: predict_single_data(tree, row), axis=1)\n",
    "    # 返回正确率\n",
    "    accuracy = (prediction == data[target]).sum() * 1.0 / len(data)\n",
    "    return accuracy"
   ]
  },
  {
   "cell_type": "code",
   "execution_count": 26,
   "metadata": {},
   "outputs": [
    {
     "data": {
      "text/plain": [
       "0.9524200164068909"
      ]
     },
     "execution_count": 26,
     "metadata": {},
     "output_type": "execute_result"
    }
   ],
   "source": [
    "# test 根据测试样例，输出应该至少是0.95以上\n",
    "evaluate_accuracy(small_data_decision_tree, test_data)"
   ]
  },
  {
   "cell_type": "code",
   "execution_count": null,
   "metadata": {},
   "outputs": [],
   "source": []
  },
  {
   "cell_type": "code",
   "execution_count": 28,
   "metadata": {},
   "outputs": [],
   "source": [
    "from sklearn.base import BaseEstimator\n",
    "from sklearn.metrics import accuracy_score\n",
    "class WeightedDecisionTree(BaseEstimator):\n",
    "    \n",
    "    def __init__(self, max_depth, min_error):\n",
    "        self.max_depth = max_depth\n",
    "        self.min_error = min_error\n",
    "    \n",
    "    def fit(self, X, Y, data_weights = None):\n",
    "        \n",
    "        data_set = pd.concat([X, Y], axis=1)\n",
    "        features = X.columns\n",
    "        target = Y.columns[0]\n",
    "        self.root_node = create_weighted_tree(data_set, data_weights, features, \n",
    "                               target, current_depth = 0, max_depth = self.max_depth, min_error=self.min_error)\n",
    "        \n",
    "        \n",
    "    def predict(self, X):\n",
    "        prediction = X.apply(lambda row: predict_single_data(self.root_node, row), axis=1)\n",
    "        return prediction\n",
    "        \n",
    "        \n",
    "    def score(self, testX, testY):\n",
    "        target = testY.columns[0]\n",
    "        result = self.predict(testX)\n",
    "        return accuracy_score(testY[target], result)  "
   ]
  },
  {
   "cell_type": "code",
   "execution_count": 39,
   "metadata": {},
   "outputs": [
    {
     "data": {
      "text/plain": [
       "0.75"
      ]
     },
     "execution_count": 39,
     "metadata": {},
     "output_type": "execute_result"
    }
   ],
   "source": [
    "a = np.array([1/2,1/4,1/4])\n",
    "a.dot(np.array([1,1,0])) "
   ]
  },
  {
   "cell_type": "code",
   "execution_count": 31,
   "metadata": {},
   "outputs": [],
   "source": [
    "from sklearn.base import BaseEstimator\n",
    "class MyAdaboost(BaseEstimator):\n",
    "    \n",
    "    def __init__(self, M):\n",
    "        self.M = M  # 多少个弱学习器\n",
    "        \n",
    "    def fit(self, X, Y):\n",
    "        self.models = []\n",
    "        self.model_weights = []\n",
    "        self.target = Y.columns[0]\n",
    "        \n",
    "        N, _ = X.shape   # N 数据有多少行\n",
    "        alpha = np.ones(N) / N    # 初始化data weights为等权重\n",
    "        \n",
    "        for m in range(self.M):\n",
    "            tree = WeightedDecisionTree(max_depth=2, min_error=1e-15)\n",
    "            tree.fit(X, Y, data_weights=alpha)\n",
    "            prediction = tree.predict(X)   # fitted value\n",
    "            \n",
    "            # 计算加权错误\n",
    "            weighted_error = alpha.dot(prediction != Y[self.target])\n",
    "            '''\n",
    "            weighted_error = sum_{i=1}^{N} alpha_i*I_{prediction_i != y_i}   乘积求和可以用.dot\n",
    "            '''\n",
    "            \n",
    "            # 计算当前模型的权重\n",
    "            model_weight = 0.5 * (np.log(1 - weighted_error) - np.log(weighted_error))\n",
    "            '''\n",
    "            w_t = model_weight = 1/2 * log[(1-weighted_error)/ weighted_error]\n",
    "            '''\n",
    "            \n",
    "            # 更新数据的权重\n",
    "            alpha = alpha * np.exp(-model_weight * Y[self.target] * prediction)\n",
    "            '''\n",
    "            alpha_i = alpha_i*exp(-w_t * f_t(x_i) * y_i)\n",
    "            '''\n",
    "            \n",
    "            # 数据权重normalize, 归一化\n",
    "            alpha = alpha / alpha.sum()\n",
    "            \n",
    "            self.models.append(tree)\n",
    "            self.model_weights.append(model_weight)\n",
    "            \n",
    "    def predict(self, X):\n",
    "        N, _ = X.shape\n",
    "        result = np.zeros(N)\n",
    "        for wt, tree in zip(self.model_weights, self.models):\n",
    "            result += wt * tree.predict(X)\n",
    "        \n",
    "        return np.sign(result)\n",
    "\n",
    "    def score(self, testX, testY):\n",
    "        result = self.predict(testX)\n",
    "        return accuracy_score(testY[self.target], result) "
   ]
  },
  {
   "cell_type": "code",
   "execution_count": 32,
   "metadata": {},
   "outputs": [],
   "source": [
    "m = MyAdaboost(20)"
   ]
  },
  {
   "cell_type": "code",
   "execution_count": 33,
   "metadata": {},
   "outputs": [
    {
     "name": "stdout",
     "output_type": "stream",
     "text": [
      "Split on feature odor_n. (3209, 2477)\n",
      "Split on feature stalk-root_c. (2813, 396)\n",
      "Termination 3 reached.\n",
      "Termination 3 reached.\n",
      "Split on feature spore-print-color_r. (2421, 56)\n",
      "Termination 3 reached.\n",
      "Termination 1 reached.\n",
      "Split on feature ring-type_p. (2876, 2810)\n",
      "Split on feature stalk-root_e. (2357, 519)\n",
      "Termination 3 reached.\n",
      "Termination 1 reached.\n",
      "Split on feature odor_f. (2619, 191)\n",
      "Termination 3 reached.\n",
      "Termination 1 reached.\n",
      "Split on feature gill-size_n. (3920, 1766)\n",
      "Split on feature stalk-surface-above-ring_k. (2895, 1025)\n",
      "Termination 3 reached.\n",
      "Termination 3 reached.\n",
      "Split on feature odor_a. (1730, 36)\n",
      "Termination 3 reached.\n",
      "Termination 1 reached.\n",
      "Split on feature spore-print-color_r. (5630, 56)\n",
      "Split on feature odor_p. (5452, 178)\n",
      "Termination 3 reached.\n",
      "Termination 1 reached.\n",
      "Termination 1 reached.\n",
      "Split on feature odor_l. (5402, 284)\n",
      "Split on feature ring-type_f. (5368, 34)\n",
      "Termination 3 reached.\n",
      "Termination 1 reached.\n",
      "Termination 1 reached.\n",
      "Split on feature odor_f. (4188, 1498)\n",
      "Split on feature odor_c. (4053, 135)\n",
      "Termination 3 reached.\n",
      "Termination 1 reached.\n",
      "Termination 1 reached.\n",
      "Split on feature cap-surface_f. (4064, 1622)\n",
      "Split on feature habitat_w. (3931, 133)\n",
      "Termination 3 reached.\n",
      "Termination 1 reached.\n",
      "Split on feature odor_c. (1557, 65)\n",
      "Termination 3 reached.\n",
      "Termination 1 reached.\n",
      "Split on feature stalk-surface-above-ring_k. (4032, 1654)\n",
      "Split on feature cap-color_w. (3350, 682)\n",
      "Termination 3 reached.\n",
      "Termination 3 reached.\n",
      "Split on feature gill-spacing_c. (107, 1547)\n",
      "Termination 1 reached.\n",
      "Termination 1 reached.\n",
      "Split on feature gill-spacing_c. (911, 4775)\n",
      "Split on feature population_c. (898, 13)\n",
      "Termination 3 reached.\n",
      "Termination 1 reached.\n",
      "Split on feature population_v. (2064, 2711)\n",
      "Termination 3 reached.\n",
      "Termination 3 reached.\n",
      "Split on feature odor_n. (3209, 2477)\n",
      "Split on feature odor_a. (2924, 285)\n",
      "Termination 3 reached.\n",
      "Termination 1 reached.\n",
      "Split on feature spore-print-color_r. (2421, 56)\n",
      "Termination 3 reached.\n",
      "Termination 1 reached.\n",
      "Split on feature odor_l. (5402, 284)\n",
      "Split on feature stalk-surface-below-ring_f. (4984, 418)\n",
      "Termination 3 reached.\n",
      "Termination 3 reached.\n",
      "Termination 1 reached.\n",
      "Split on feature population_c. (5447, 239)\n",
      "Split on feature odor_f. (3949, 1498)\n",
      "Termination 3 reached.\n",
      "Termination 1 reached.\n",
      "Split on feature stalk-root_?. (38, 201)\n",
      "Termination 1 reached.\n",
      "Termination 1 reached.\n",
      "Split on feature stalk-shape_e. (3227, 2459)\n",
      "Split on feature habitat_d. (1521, 1706)\n",
      "Termination 3 reached.\n",
      "Termination 3 reached.\n",
      "Split on feature odor_a. (2210, 249)\n",
      "Termination 3 reached.\n",
      "Termination 1 reached.\n",
      "Split on feature odor_n. (3209, 2477)\n",
      "Split on feature odor_l. (2925, 284)\n",
      "Termination 3 reached.\n",
      "Termination 1 reached.\n",
      "Split on feature stalk-surface-below-ring_y. (2440, 37)\n",
      "Termination 3 reached.\n",
      "Termination 3 reached.\n",
      "Split on feature stalk-root_b. (3044, 2642)\n",
      "Split on feature gill-size_n. (1519, 1525)\n",
      "Termination 3 reached.\n",
      "Termination 3 reached.\n",
      "Split on feature stalk-shape_e. (1490, 1152)\n",
      "Termination 3 reached.\n",
      "Termination 3 reached.\n",
      "Split on feature spore-print-color_r. (5630, 56)\n",
      "Split on feature population_c. (5391, 239)\n",
      "Termination 3 reached.\n",
      "Termination 3 reached.\n",
      "Termination 1 reached.\n",
      "Split on feature odor_n. (3209, 2477)\n",
      "Split on feature odor_a. (2924, 285)\n",
      "Termination 3 reached.\n",
      "Termination 1 reached.\n",
      "Split on feature stalk-surface-below-ring_y. (2440, 37)\n",
      "Termination 3 reached.\n",
      "Termination 3 reached.\n",
      "Split on feature stalk-root_b. (3044, 2642)\n",
      "Split on feature stalk-surface-above-ring_k. (2283, 761)\n",
      "Termination 3 reached.\n",
      "Termination 3 reached.\n",
      "Split on feature stalk-color-below-ring_w. (1754, 888)\n",
      "Termination 3 reached.\n",
      "Termination 3 reached.\n",
      "Split on feature odor_l. (5402, 284)\n",
      "Split on feature odor_a. (5117, 285)\n",
      "Termination 3 reached.\n",
      "Termination 1 reached.\n",
      "Termination 1 reached.\n",
      "Split on feature odor_p. (5508, 178)\n",
      "Split on feature spore-print-color_r. (5452, 56)\n",
      "Termination 3 reached.\n",
      "Termination 1 reached.\n",
      "Termination 1 reached.\n"
     ]
    }
   ],
   "source": [
    "m.fit(trainX, trainY)"
   ]
  },
  {
   "cell_type": "code",
   "execution_count": 34,
   "metadata": {},
   "outputs": [
    {
     "data": {
      "text/plain": [
       "1.0"
      ]
     },
     "execution_count": 34,
     "metadata": {},
     "output_type": "execute_result"
    }
   ],
   "source": [
    "m.score(testX, testY)"
   ]
  },
  {
   "cell_type": "code",
   "execution_count": null,
   "metadata": {},
   "outputs": [],
   "source": []
  },
  {
   "cell_type": "code",
   "execution_count": null,
   "metadata": {},
   "outputs": [],
   "source": []
  },
  {
   "cell_type": "code",
   "execution_count": null,
   "metadata": {},
   "outputs": [],
   "source": []
  }
 ],
 "metadata": {
  "kernelspec": {
   "display_name": "Python 3",
   "language": "python",
   "name": "python3"
  },
  "language_info": {
   "codemirror_mode": {
    "name": "ipython",
    "version": 3
   },
   "file_extension": ".py",
   "mimetype": "text/x-python",
   "name": "python",
   "nbconvert_exporter": "python",
   "pygments_lexer": "ipython3",
   "version": "3.6.5"
  }
 },
 "nbformat": 4,
 "nbformat_minor": 2
}
