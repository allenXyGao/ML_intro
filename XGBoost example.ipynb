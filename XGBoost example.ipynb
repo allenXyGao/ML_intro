{
 "cells": [
  {
   "cell_type": "code",
   "execution_count": 15,
   "metadata": {},
   "outputs": [
    {
     "name": "stdout",
     "output_type": "stream",
     "text": [
      "(100, 4)\n"
     ]
    }
   ],
   "source": [
    "from sklearn import datasets\n",
    "\n",
    "iris = datasets.load_iris()\n",
    "data = iris.data[:100]\n",
    "print (data.shape)\n",
    "\n",
    "label = iris.target[:100]"
   ]
  },
  {
   "cell_type": "code",
   "execution_count": null,
   "metadata": {},
   "outputs": [],
   "source": []
  },
  {
   "cell_type": "code",
   "execution_count": 16,
   "metadata": {},
   "outputs": [],
   "source": [
    "from sklearn.cross_validation import train_test_split\n",
    "\n",
    "train_x, test_x, train_y, test_y = train_test_split(data, label, test_size=0.2, random_state=0)"
   ]
  },
  {
   "cell_type": "code",
   "execution_count": 18,
   "metadata": {},
   "outputs": [
    {
     "name": "stdout",
     "output_type": "stream",
     "text": [
      "[0]\ttrain-auc:1\n",
      "[1]\ttrain-auc:1\n",
      "[2]\ttrain-auc:1\n",
      "[3]\ttrain-auc:1\n",
      "[4]\ttrain-auc:1\n",
      "AUC: 1.0000\n",
      "ACC: 1.0000\n",
      "Recall: 1.0000\n",
      "F1-score: 1.0000\n",
      "Precesion: 1.0000\n",
      "[[10  0]\n",
      " [ 0 10]]\n"
     ]
    }
   ],
   "source": [
    "import xgboost as xgb\n",
    "dtrain=xgb.DMatrix(train_x,label=train_y)\n",
    "dtest=xgb.DMatrix(test_x)\n",
    "\n",
    "params={'booster':'gbtree',\n",
    "    'objective': 'binary:logistic', #'multi:softmax'\n",
    "    'eval_metric': 'auc',\n",
    "    'max_depth':4,\n",
    "    'lambda':10,\n",
    "    'subsample':0.75,\n",
    "    'colsample_bytree':0.75,\n",
    "    'min_child_weight':2,\n",
    "    'eta': 0.025,\n",
    "    'seed':0,\n",
    "    'nthread':8,\n",
    "     'silent':1}\n",
    "\n",
    "watchlist = [(dtrain,'train')]\n",
    "bst=xgb.train(params,dtrain,num_boost_round=5,evals=watchlist)\n",
    "#输出概率\n",
    "ypred=bst.predict(dtest)\n",
    "# 设置阈值, 输出一些评价指标，选择概率大于0.5的为1，其他为0类\n",
    "y_pred = (ypred >= 0.5)*1\n",
    "\n",
    "from sklearn import metrics\n",
    "print ('AUC: %.4f' % metrics.roc_auc_score(test_y,ypred))\n",
    "print ('ACC: %.4f' % metrics.accuracy_score(test_y,y_pred))\n",
    "print ('Recall: %.4f' % metrics.recall_score(test_y,y_pred))\n",
    "print ('F1-score: %.4f' %metrics.f1_score(test_y,y_pred))\n",
    "print ('Precesion: %.4f' %metrics.precision_score(test_y,y_pred))\n",
    "print(metrics.confusion_matrix(test_y,y_pred))"
   ]
  },
  {
   "cell_type": "code",
   "execution_count": null,
   "metadata": {},
   "outputs": [],
   "source": []
  },
  {
   "cell_type": "code",
   "execution_count": null,
   "metadata": {},
   "outputs": [],
   "source": []
  },
  {
   "cell_type": "code",
   "execution_count": null,
   "metadata": {},
   "outputs": [],
   "source": []
  },
  {
   "cell_type": "code",
   "execution_count": null,
   "metadata": {},
   "outputs": [],
   "source": []
  },
  {
   "cell_type": "code",
   "execution_count": null,
   "metadata": {},
   "outputs": [],
   "source": []
  }
 ],
 "metadata": {
  "kernelspec": {
   "display_name": "Python 3",
   "language": "python",
   "name": "python3"
  },
  "language_info": {
   "codemirror_mode": {
    "name": "ipython",
    "version": 3
   },
   "file_extension": ".py",
   "mimetype": "text/x-python",
   "name": "python",
   "nbconvert_exporter": "python",
   "pygments_lexer": "ipython3",
   "version": "3.6.5"
  }
 },
 "nbformat": 4,
 "nbformat_minor": 2
}
