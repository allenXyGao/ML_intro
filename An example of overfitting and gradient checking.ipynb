{
 "cells": [
  {
   "cell_type": "code",
   "execution_count": 1,
   "metadata": {},
   "outputs": [],
   "source": [
    "import numpy as np\n",
    "import pandas as pd\n",
    "from patsy import dmatrices\n",
    "from sklearn.linear_model import LogisticRegression\n",
    "from sklearn.model_selection import train_test_split\n",
    "from sklearn import metrics\n",
    "import matplotlib.pyplot as plt"
   ]
  },
  {
   "cell_type": "code",
   "execution_count": 2,
   "metadata": {},
   "outputs": [],
   "source": [
    "data = pd.read_csv(\"HR_comma_sep.csv\")\n",
    "data.head(10)\n",
    "y, X = dmatrices('left~satisfaction_level+last_evaluation+number_project+average_montly_hours+time_spend_company+Work_accident+promotion_last_5years+C(sales)+C(salary)', data, return_type='dataframe')\n",
    "X = np.asmatrix(X)\n",
    "y = np.ravel(y)"
   ]
  },
  {
   "cell_type": "code",
   "execution_count": 3,
   "metadata": {},
   "outputs": [],
   "source": [
    "# Normalization\n",
    "for i in range(1, X.shape[1]):\n",
    "    xmin = X[:,i].min()\n",
    "    xmax = X[:,i].max()\n",
    "    X[:, i] = (X[:, i] - xmin) / (xmax - xmin)"
   ]
  },
  {
   "cell_type": "code",
   "execution_count": 4,
   "metadata": {},
   "outputs": [],
   "source": [
    "Xtrain,Xvali,ytrain,yvali=train_test_split(X, y, test_size=0.2, random_state=3)"
   ]
  },
  {
   "cell_type": "markdown",
   "metadata": {},
   "source": [
    "## Overfitting"
   ]
  },
  {
   "cell_type": "code",
   "execution_count": 5,
   "metadata": {},
   "outputs": [
    {
     "name": "stdout",
     "output_type": "stream",
     "text": [
      "T=0 loss=1.125338568267821 error=0.5052087673972832 error_vali=0.49766666666666665\n",
      "T=5 loss=0.5487248908520651 error=0.24918743228602383 error_vali=0.24866666666666667\n",
      "T=10 loss=0.5043810358552849 error=0.23718643220268357 error_vali=0.23833333333333334\n",
      "T=15 loss=0.48342576427505307 error=0.22626885573797817 error_vali=0.228\n",
      "T=20 loss=0.46966024320936456 error=0.2187682306858905 error_vali=0.22033333333333333\n",
      "T=25 loss=0.46010838117706304 error=0.2173514459538295 error_vali=0.22066666666666668\n",
      "T=30 loss=0.45297590886796885 error=0.2137678139844987 error_vali=0.21666666666666667\n",
      "T=35 loss=0.44783827517044894 error=0.2173514459538295 error_vali=0.21966666666666668\n",
      "T=40 loss=0.44403288633042387 error=0.2115176264688724 error_vali=0.213\n",
      "T=45 loss=0.44119914749615574 error=0.21360113342778564 error_vali=0.216\n",
      "T=50 loss=0.43903299855922373 error=0.20910075839653305 error_vali=0.21233333333333335\n",
      "T=55 loss=0.4373425225124252 error=0.20960080006667223 error_vali=0.215\n",
      "T=60 loss=0.4359976341739453 error=0.2072672722726894 error_vali=0.21233333333333335\n",
      "T=65 loss=0.43491076333937717 error=0.20626718893241103 error_vali=0.212\n",
      "T=70 loss=0.4340206117280259 error=0.20601716809734144 error_vali=0.21033333333333334\n",
      "T=75 loss=0.4332830223667349 error=0.20626718893241103 error_vali=0.20933333333333334\n",
      "T=80 loss=0.4326654485236592 error=0.2056004667055588 error_vali=0.209\n",
      "T=85 loss=0.43214346828338424 error=0.2053504458704892 error_vali=0.208\n",
      "T=90 loss=0.4316984898857802 error=0.20435036253021086 error_vali=0.20766666666666667\n",
      "T=95 loss=0.43131617573490905 error=0.2036003000250021 error_vali=0.20766666666666667\n",
      "T=100 loss=0.4309853382329508 error=0.20410034169514127 error_vali=0.20866666666666667\n",
      "T=105 loss=0.43069715187740054 error=0.20410034169514127 error_vali=0.20833333333333334\n",
      "T=110 loss=0.43044458409061687 error=0.20401700141678472 error_vali=0.207\n",
      "T=115 loss=0.4302219787865045 error=0.20368364030335862 error_vali=0.20666666666666667\n",
      "T=120 loss=0.43002474812310193 error=0.20401700141678472 error_vali=0.208\n",
      "T=125 loss=0.42984914165046606 error=0.20435036253021086 error_vali=0.208\n",
      "T=130 loss=0.42969207148227256 error=0.20460038336528044 error_vali=0.20866666666666667\n",
      "T=135 loss=0.4295509784684717 error=0.20485040420035003 error_vali=0.209\n",
      "T=140 loss=0.429423728716468 error=0.20435036253021086 error_vali=0.20866666666666667\n",
      "T=145 loss=0.4293085328222652 error=0.20401700141678472 error_vali=0.209\n",
      "T=150 loss=0.4292038822769122 error=0.20376698058171513 error_vali=0.209\n",
      "T=155 loss=0.4291084989939231 error=0.20351695974664555 error_vali=0.209\n",
      "T=160 loss=0.4290212949560401 error=0.2036003000250021 error_vali=0.209\n",
      "T=165 loss=0.42894133973589094 error=0.20368364030335862 error_vali=0.21\n",
      "T=170 loss=0.42886783419378294 error=0.2039336611384282 error_vali=0.21\n",
      "T=175 loss=0.4288000890582121 error=0.20368364030335862 error_vali=0.21033333333333334\n",
      "T=180 loss=0.4287375073928463 error=0.20368364030335862 error_vali=0.21033333333333334\n",
      "T=185 loss=0.4286795701764878 error=0.2036003000250021 error_vali=0.21033333333333334\n",
      "T=190 loss=0.42862582439111746 error=0.20351695974664555 error_vali=0.21\n",
      "T=195 loss=0.42857587314123846 error=0.20376698058171513 error_vali=0.21066666666666667\n"
     ]
    }
   ],
   "source": [
    "np.random.seed(1)\n",
    "alpha = 5 # learning rate\n",
    "beta = np.random.randn(Xtrain.shape[1]) # 随机初始化参数beta\n",
    "error_rates_train=[]\n",
    "error_rates_vali=[]\n",
    "for T in range(200):\n",
    "    prob = np.array(1. / (1 + np.exp(-np.matmul(Xtrain, beta)))).ravel()  # 根据当前beta预测离职的概率\n",
    "    prob_y = list(zip(prob, ytrain))\n",
    "    loss = -sum([np.log(p) if y == 1 else np.log(1 - p) for p, y in prob_y]) / len(ytrain) # 计算损失函数的值\n",
    "    error_rate = 0\n",
    "    for i in range(len(ytrain)):\n",
    "        if ((prob[i] > 0.5 and ytrain[i] == 0) or (prob[i] <= 0.5 and ytrain[i] == 1)):\n",
    "            error_rate += 1;\n",
    "    error_rate /= len(ytrain)\n",
    "    error_rates_train.append(error_rate)\n",
    "    \n",
    "    prob_vali = np.array(1. / (1 + np.exp(-np.matmul(Xvali, beta)))).ravel()  # 根据当前beta预测离职的概率\n",
    "    prob_y_vali = list(zip(prob_vali, yvali))\n",
    "    loss_vali = -sum([np.log(p) if y == 1 else np.log(1 - p) for p, y in prob_y_vali]) / len(yvali) # 计算损失函数的值\n",
    "    error_rate_vali = 0\n",
    "    for i in range(len(yvali)):\n",
    "        if ((prob_vali[i] > 0.5 and yvali[i] == 0) or (prob_vali[i] <= 0.5 and yvali[i] == 1)):\n",
    "            error_rate_vali += 1\n",
    "    error_rate_vali /= len(yvali)\n",
    "    error_rates_vali.append(error_rate_vali)\n",
    "    \n",
    "    if T % 5 ==0 :\n",
    "        print('T=' + str(T) + ' loss=' + str(loss) + ' error=' + str(error_rate)+ ' error_vali=' + str(error_rate_vali))\n",
    "    # 计算损失函数关于beta每个分量的导数\n",
    "    deriv = np.zeros(Xtrain.shape[1])\n",
    "    for i in range(len(ytrain)):\n",
    "        deriv += np.asarray(Xtrain[i,:]).ravel() * (prob[i] - ytrain[i])\n",
    "    deriv /= len(ytrain)\n",
    "    # 沿导数相反方向修改beta\n",
    "    beta -= alpha * deriv"
   ]
  },
  {
   "cell_type": "code",
   "execution_count": 6,
   "metadata": {},
   "outputs": [
    {
     "data": {
      "image/png": "[encoded data removed]",
      "text/plain": [
       "<Figure size 432x288 with 1 Axes>"
      ]
     },
     "metadata": {},
     "output_type": "display_data"
    }
   ],
   "source": [
    "plt.plot(range(50,200), error_rates_train[50:], 'r^', range(50, 200), error_rates_vali[50:], 'bs')\n",
    "plt.show()"
   ]
  },
  {
   "cell_type": "code",
   "execution_count": null,
   "metadata": {},
   "outputs": [],
   "source": []
  },
  {
   "cell_type": "markdown",
   "metadata": {},
   "source": [
    "## Gradient checking"
   ]
  },
  {
   "cell_type": "code",
   "execution_count": 7,
   "metadata": {},
   "outputs": [
    {
     "name": "stdout",
     "output_type": "stream",
     "text": [
      "We calculated 0.3306924011046167\n",
      "According to definition of gradient, it is 0.33069903233373665\n"
     ]
    }
   ],
   "source": [
    "np.random.seed(1)\n",
    "alpha = 1  # learning rate\n",
    "beta = np.random.randn(X.shape[1]) # 随机初始化参数beta\n",
    "\n",
    "#dF/dbeta0\n",
    "prob = np.array(1. / (1 + np.exp(-np.matmul(X, beta)))).ravel()  # 根据当前beta预测离职的概率\n",
    "prob_y = list(zip(prob, y))\n",
    "loss = -sum([np.log(p) if y == 1 else np.log(1. - p) for p, y in prob_y]) / len(y) # 计算损失函数的值\n",
    "deriv = np.zeros(X.shape[1])\n",
    "for i in range(len(y)):\n",
    "    deriv += np.asarray(X[i,:]).ravel() * (prob[i] - y[i])\n",
    "deriv /= len(y)\n",
    "print('We calculated ' + str(deriv[0]))\n",
    "\n",
    "delta = 0.0001\n",
    "beta[0] += delta\n",
    "prob = np.array(1. / (1 + np.exp(-np.matmul(X, beta)))).ravel()  # 根据当前beta预测离职的概率\n",
    "prob_y = list(zip(prob, y))\n",
    "loss2 = -sum([np.log(p) if y == 1 else np.log(1. - p) for p, y in prob_y]) / len(y) # 计算损失函数的值\n",
    "shouldbe = (loss2 - loss) / delta # (F(b0+delta,b1,...,bn) - F(b0,...bn)) / delta\n",
    "print('According to definition of gradient, it is ' + str(shouldbe))\n",
    "if shouldbe == deriv[0]:\n",
    "    print(\"Correct!\")"
   ]
  },
  {
   "cell_type": "code",
   "execution_count": null,
   "metadata": {},
   "outputs": [],
   "source": []
  },
  {
   "cell_type": "code",
   "execution_count": null,
   "metadata": {},
   "outputs": [],
   "source": []
  },
  {
   "cell_type": "code",
   "execution_count": null,
   "metadata": {},
   "outputs": [],
   "source": []
  },
  {
   "cell_type": "code",
   "execution_count": null,
   "metadata": {},
   "outputs": [],
   "source": []
  }
 ],
 "metadata": {
  "kernelspec": {
   "display_name": "Python 3",
   "language": "python",
   "name": "python3"
  },
  "language_info": {
   "codemirror_mode": {
    "name": "ipython",
    "version": 3
   },
   "file_extension": ".py",
   "mimetype": "text/x-python",
   "name": "python",
   "nbconvert_exporter": "python",
   "pygments_lexer": "ipython3",
   "version": "3.6.5"
  }
 },
 "nbformat": 4,
 "nbformat_minor": 2
}
